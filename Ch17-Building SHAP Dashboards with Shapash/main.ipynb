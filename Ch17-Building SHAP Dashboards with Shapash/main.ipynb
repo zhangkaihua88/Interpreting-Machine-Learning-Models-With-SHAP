{
 "cells": [
  {
   "cell_type": "code",
   "execution_count": null,
   "metadata": {},
   "outputs": [],
   "source": [
    "import sklearn\n",
    "import shap\n",
    "import shapash\n",
    "import pandas as pd"
   ]
  },
  {
   "cell_type": "code",
   "execution_count": null,
   "metadata": {},
   "outputs": [],
   "source": [
    "import pandas as pd\n",
    "from sklearn.model_selection import train_test_split\n",
    "from lightgbm import LGBMRegressor \n",
    "# Load the California housing dataset from Shap \n",
    "# X, y = shap.datasets.california()\n",
    "d = sklearn.datasets.fetch_california_housing(data_home='/root/autodl-tmp/Interpreting-Machine-Learning-Models-With-SHAP/Ch17-Building SHAP Dashboards with Shapash', download_if_missing=False)\n",
    "X = pd.DataFrame(data=d.data, columns=d.feature_names) # pylint: disable=E1101\n",
    "y = d.target\n",
    "\n",
    "\n",
    "X_train, X_test, y_train, y_test = train_test_split( X, y, train_size=0.8, random_state=1 ) \n",
    "# Train a model \n",
    "model = LGBMRegressor(n_estimators=100).fit(X_train, y_train) \n",
    "y_pred = pd.DataFrame( model.predict(X_test), columns=['pred'], index=X_test.index ) \n",
    "xpl = shapash.SmartExplainer(model=model) \n",
    "explainer = shap.Explainer(model, X_train) \n",
    "xpl.compile(y_pred=y_pred, x=X_test)\n"
   ]
  },
  {
   "cell_type": "code",
   "execution_count": null,
   "metadata": {},
   "outputs": [],
   "source": [
    "app = xpl.run_app(title_story='California Housing', port=8020)"
   ]
  },
  {
   "cell_type": "code",
   "execution_count": null,
   "metadata": {},
   "outputs": [],
   "source": [
    "app.kill()"
   ]
  }
 ],
 "metadata": {
  "kernelspec": {
   "display_name": "Python 3.8.10 ('base')",
   "language": "python",
   "name": "python3"
  },
  "language_info": {
   "codemirror_mode": {
    "name": "ipython",
    "version": 3
   },
   "file_extension": ".py",
   "mimetype": "text/x-python",
   "name": "python",
   "nbconvert_exporter": "python",
   "pygments_lexer": "ipython3",
   "version": "3.8.10"
  },
  "orig_nbformat": 4,
  "vscode": {
   "interpreter": {
    "hash": "2f394aca7ca06fed1e6064aef884364492d7cdda3614a461e02e6407fc40ba69"
   }
  }
 },
 "nbformat": 4,
 "nbformat_minor": 2
}
